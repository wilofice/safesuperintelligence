{
 "cells": [
  {
   "metadata": {},
   "cell_type": "code",
   "outputs": [
    {
     "name": "stdout",
     "output_type": "stream",
     "text": [
      "Note: you may need to restart the kernel to use updated packages.\n"
     ]
    }
   ],
   "execution_count": 12,
   "source": "%pip install \"langserve[all]\" -qU",
   "id": "4e38da7565001e1f"
  },
  {
   "metadata": {},
   "cell_type": "code",
   "source": "%pip install langchain_community -U",
   "id": "a4508f2b9865c17d",
   "outputs": [],
   "execution_count": null
  },
  {
   "metadata": {},
   "cell_type": "code",
   "outputs": [],
   "execution_count": null,
   "source": "",
   "id": "38dbab80148cd1c2"
  },
  {
   "metadata": {
    "ExecuteTime": {
     "end_time": "2024-07-17T23:47:39.387279Z",
     "start_time": "2024-07-17T23:47:38.245102Z"
    }
   },
   "cell_type": "code",
   "source": "%pip install langchain -qU",
   "id": "d5382a23871eba9b",
   "outputs": [
    {
     "name": "stdout",
     "output_type": "stream",
     "text": [
      "Note: you may need to restart the kernel to use updated packages.\n"
     ]
    }
   ],
   "execution_count": 29
  },
  {
   "metadata": {
    "ExecuteTime": {
     "end_time": "2024-07-18T00:09:51.303632Z",
     "start_time": "2024-07-18T00:02:33.256134Z"
    }
   },
   "cell_type": "code",
   "source": "%pip install --upgrade --quiet  langchain-huggingface text-generation transformers google-search-results numexpr langchainhub sentencepiece jinja2",
   "id": "a6f33dd78a0914ee",
   "outputs": [
    {
     "name": "stdout",
     "output_type": "stream",
     "text": [
      "Note: you may need to restart the kernel to use updated packages.\n"
     ]
    }
   ],
   "execution_count": 30
  },
  {
   "metadata": {},
   "cell_type": "code",
   "outputs": [],
   "execution_count": 1,
   "source": "import requests",
   "id": "initial_id"
  },
  {
   "metadata": {},
   "cell_type": "code",
   "outputs": [],
   "execution_count": 9,
   "source": "macbookpro_url = 'http://192.168.1.11:8000/docs/'",
   "id": "dade574d83739f8d"
  },
  {
   "metadata": {},
   "cell_type": "code",
   "outputs": [],
   "execution_count": 10,
   "source": "isMacUp = requests.get(macbookpro_url).text",
   "id": "cee99f80c9712c89"
  },
  {
   "metadata": {},
   "cell_type": "code",
   "source": "isMacUp",
   "id": "70e4d47a4288625",
   "outputs": [],
   "execution_count": null
  },
  {
   "metadata": {},
   "cell_type": "code",
   "outputs": [],
   "execution_count": 13,
   "source": "from langserve import RemoteRunnable",
   "id": "baf69d95f98ea10"
  },
  {
   "metadata": {
    "ExecuteTime": {
     "end_time": "2024-07-17T17:49:25.678538Z",
     "start_time": "2024-07-17T17:49:25.625579Z"
    }
   },
   "cell_type": "code",
   "source": "remote_chain = RemoteRunnable(\"http://192.168.1.11:8000/chain/\")",
   "id": "321b8674ec7b7e8",
   "outputs": [],
   "execution_count": 15
  },
  {
   "metadata": {
    "ExecuteTime": {
     "end_time": "2024-07-17T17:50:39.940814Z",
     "start_time": "2024-07-17T17:50:27.438127Z"
    }
   },
   "cell_type": "code",
   "source": [
    "response = remote_chain.invoke(\n",
    "    {\"input\": \"Hi, my name is Gandalf\"},\n",
    "    config={\"configurable\": {\"session_id\": \"02\"}})"
   ],
   "id": "8acca24644183f16",
   "outputs": [],
   "execution_count": 17
  },
  {
   "metadata": {
    "ExecuteTime": {
     "end_time": "2024-07-17T17:53:40.332528Z",
     "start_time": "2024-07-17T17:53:40.330409Z"
    }
   },
   "cell_type": "code",
   "source": "config={\"configurable\": {\"session_id\": \"02\"}}",
   "id": "a5d74a59ded4830e",
   "outputs": [],
   "execution_count": 22
  },
  {
   "metadata": {
    "ExecuteTime": {
     "end_time": "2024-07-17T17:53:40.960437Z",
     "start_time": "2024-07-17T17:53:40.958390Z"
    }
   },
   "cell_type": "code",
   "source": "message = 'Hello, how can we build safe artificial intelligence?'",
   "id": "a3a4ff5da04094e4",
   "outputs": [],
   "execution_count": 23
  },
  {
   "metadata": {
    "ExecuteTime": {
     "end_time": "2024-07-18T01:17:25.893158Z",
     "start_time": "2024-07-18T01:17:25.890986Z"
    }
   },
   "cell_type": "code",
   "source": "message = 'Hello'",
   "id": "bc3047c422c912c2",
   "outputs": [],
   "execution_count": 37
  },
  {
   "metadata": {},
   "cell_type": "code",
   "source": [
    "response = remote_chain.invoke(\n",
    "    {\"input\": message},\n",
    "    config=config)"
   ],
   "id": "62c98a9bcaeb2cbf",
   "outputs": [],
   "execution_count": null
  },
  {
   "metadata": {},
   "cell_type": "code",
   "source": "print(response)",
   "id": "17df090cfc5538a9",
   "outputs": [],
   "execution_count": null
  },
  {
   "metadata": {},
   "cell_type": "code",
   "outputs": [],
   "execution_count": null,
   "source": "",
   "id": "2326f520782f58d7"
  }
 ],
 "metadata": {
  "kernelspec": {
   "display_name": "Python 3",
   "language": "python",
   "name": "python3"
  },
  "language_info": {
   "codemirror_mode": {
    "name": "ipython",
    "version": 2
   },
   "file_extension": ".py",
   "mimetype": "text/x-python",
   "name": "python",
   "nbconvert_exporter": "python",
   "pygments_lexer": "ipython2",
   "version": "2.7.6"
  }
 },
 "nbformat": 4,
 "nbformat_minor": 5
}
