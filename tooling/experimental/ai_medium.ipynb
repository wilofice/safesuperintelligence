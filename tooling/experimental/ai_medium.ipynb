{
 "cells": [
  {
   "metadata": {
    "ExecuteTime": {
     "end_time": "2025-01-21T01:16:46.339523Z",
     "start_time": "2025-01-21T01:16:45.743824Z"
    }
   },
   "cell_type": "code",
   "source": [
    "from langchain_ollama import ChatOllama\n",
    "\n",
    "from langchain_core.messages import HumanMessage\n",
    "from langchain_core.tools import tool\n",
    "from langgraph.checkpoint.memory import MemorySaver\n",
    "from typing import Literal"
   ],
   "id": "initial_id",
   "outputs": [],
   "execution_count": 1
  },
  {
   "metadata": {
    "ExecuteTime": {
     "end_time": "2025-01-21T01:16:46.360722Z",
     "start_time": "2025-01-21T01:16:46.340452Z"
    }
   },
   "cell_type": "code",
   "source": [
    "from typing import Annotated\n",
    "\n",
    "from typing_extensions import TypedDict\n",
    "\n",
    "from langgraph.graph import StateGraph, START, END\n",
    "from langgraph.graph.message import add_messages\n",
    "\n",
    "\n",
    "class State(TypedDict):\n",
    "    # Messages have the type \"list\". The `add_messages` function\n",
    "    # in the annotation defines how this state key should be updated\n",
    "    # (in this case, it appends messages to the list, rather than overwriting them)\n",
    "    messages: Annotated[list, add_messages]\n",
    "\n",
    "\n",
    "graph_builder = StateGraph(State)"
   ],
   "id": "24bc41e827097890",
   "outputs": [],
   "execution_count": 2
  },
  {
   "metadata": {
    "ExecuteTime": {
     "end_time": "2025-01-21T01:16:46.366639Z",
     "start_time": "2025-01-21T01:16:46.361237Z"
    }
   },
   "cell_type": "code",
   "source": [
    "from langgraph.prebuilt import ToolNode\n",
    "\n",
    "@tool\n",
    "def search(query: str):\n",
    "    \"\"\"Run web search on the question.\n",
    "    \n",
    "    Args:\n",
    "        query (str): The query to search for.\n",
    "\n",
    "    Returns:\n",
    "        str: The answer to the question.\n",
    "    \"\"\"\n",
    "    if \"sf\" in query.lower() or \"san francisco\" in query.lower():\n",
    "        return \"It's 60 degrees and foggy.\"\n",
    "    return \"It's 90 degrees and sunny.\"\n",
    "\n",
    "\n"
   ],
   "id": "4e6aaacd5db2287a",
   "outputs": [],
   "execution_count": 3
  },
  {
   "metadata": {
    "ExecuteTime": {
     "end_time": "2025-01-21T01:16:46.368460Z",
     "start_time": "2025-01-21T01:16:46.367234Z"
    }
   },
   "cell_type": "code",
   "source": "",
   "id": "3c547af6757fa52a",
   "outputs": [],
   "execution_count": 3
  },
  {
   "metadata": {
    "ExecuteTime": {
     "end_time": "2025-01-21T01:16:46.482675Z",
     "start_time": "2025-01-21T01:16:46.369436Z"
    }
   },
   "cell_type": "code",
   "source": [
    "from scraping.db.documents import ArticleDocument\n",
    "from scraping.entry import handler\n",
    "\n",
    "@tool\n",
    "def retrieve_medium_article(url: str):\n",
    "    \"\"\"Get the content of the Medium article.\n",
    "    Args:\n",
    "        url (str): The exact link of the article.\n",
    "\n",
    "    Returns:\n",
    "        str: The article content.\n",
    "    \"\"\"\n",
    "    event = {\n",
    "        \"user\": \"Genereux Alahassa\",\n",
    "        \"link\": url,\n",
    "    }\n",
    "    handler(event, None)\n",
    "    \n",
    "    data = ArticleDocument.get()\n",
    "    content = data.content['Content']\n",
    "    return ' '.join(content.split())"
   ],
   "id": "afee3c55a13b6600",
   "outputs": [
    {
     "name": "stdout",
     "output_type": "stream",
     "text": [
      "Connection to database with uri: mongodb://127.0.0.1:27017/scrabble successful\n"
     ]
    }
   ],
   "execution_count": 4
  },
  {
   "metadata": {
    "ExecuteTime": {
     "end_time": "2025-01-21T01:17:08.209184Z",
     "start_time": "2025-01-21T01:16:48.937146Z"
    }
   },
   "cell_type": "code",
   "source": "retrieve_medium_article('https://medium.com/ai-in-plain-english/claude-3-5-sonnet-why-it-is-better-than-chatgpt-7709d7cbc237')",
   "id": "ecc0f73fc0d2af5f",
   "outputs": [
    {
     "name": "stderr",
     "output_type": "stream",
     "text": [
      "/var/folders/pb/_cl6j01j2vj04jsvwgpgtvvh0000gn/T/ipykernel_25573/2746252747.py:1: LangChainDeprecationWarning: The method `BaseTool.__call__` was deprecated in langchain-core 0.1.47 and will be removed in 1.0. Use :meth:`~invoke` instead.\n",
      "  retrieve_medium_article('https://medium.com/ai-in-plain-english/claude-3-5-sonnet-why-it-is-better-than-chatgpt-7709d7cbc237')\n"
     ]
    },
    {
     "name": "stdout",
     "output_type": "stream",
     "text": [
      "Starting scrapping Medium article: https://medium.com/ai-in-plain-english/claude-3-5-sonnet-why-it-is-better-than-chatgpt-7709d7cbc237\n",
      "Successfully scraped and saved article: https://medium.com/ai-in-plain-english/claude-3-5-sonnet-why-it-is-better-than-chatgpt-7709d7cbc237\n"
     ]
    },
    {
     "data": {
      "text/plain": [
       "\"Claude 3.5 Sonnet — Why it is BETTER than ChatGPT 😮 | by Andrew Best | Artificial Intelligence in Plain EnglishOpen in appSign upSign inWriteSign upSign inMember-only storyClaude 3.5 Sonnet — Why it is BETTER than ChatGPT 😮The “artifact” feature is a game changerAndrew Best·FollowPublished inArtificial Intelligence in Plain English·4 min read·Jun 26, 20241K22ListenShareFor a while, I was getting used to only using ChatGPT. (Stupid, I know)I’m on the paid plan of ChatGPT, and I felt like there was no point in using anything else.Wrong ❌It is kind of like using Google — I don’t even think about using other search engines. I just blindly go to Google every time (although I’m now starting to use Perplexity)If you don’t have a paid Medium account, you can read for free here.I saw something recently about how Claude 3.5 Sonnet is the best model, even better than ChatGPT (GPT-4o).I also kept seeing these 2 pics everywhere:Claude 3.5 Sonnet vs other Claude ModelsandClaude 3.5 Sonnet vs ChatGPT (GPT-4o) and other LLMsOk, so it looks like Claude 3.5 Sonnet is the best model “on paper”, but is it really the best in the real world?I decided to try it for myself.BTW, if you want to grow your online presence and earn more money online in the AI age:Create an account to read the full story.The author made this story available to Medium members only.If you’re new to Medium, create a new account to read this story on us.Continue in appOr, continue in mobile webSign up with GoogleSign up with FacebookSign up with emailAlready have an account? Sign in1K1K22FollowPublished in Artificial Intelligence in Plain English16.4K Followers·Last published 19 hours agoNew AI, ML and Data Science articles every day. Follow to join our 3.5M+ monthly readers.FollowFollowWritten by Andrew Best7.2K Followers·31 FollowingAI Educator | ChatGPT & Prompt Engineering Expert | 10M+ Podcast Downloads | Co-founder of 88Herbs | AI Course Instructor at Udemy | www.aigrowthguys.comFollowResponses (22)What are your thoughts?CancelRespondRespondAlso publish to my profileMartin Ludwig6 months agoLooks like you are succumbing to the test scores.There is actually very little difference between Claude and ChatGPT test scores.I have been using all 5 top chatbots since the beginning. There is no singular best bot, as much of a person's decision, is also based on their case needs, and the sites' bell and whistles.171 replyReplyKen Adelglass6 months agoI am a Claude convert for writing code. Yesterday I asked it to convert a powershell script that prompts for a customer number and sends to an api and returns data about the customer in the console. I had Claude convert the powershell to python and…...Read More8ReplyCase Flyn6 months agoSolid analysis and a good read. It's nice to see some competition now in the AI space. Without the competition there likely wouldn't be much innovation in such short periods of time.11ReplySee all responsesMore from Andrew Best and Artificial Intelligence in Plain EnglishInArtificial Intelligence in Plain EnglishbyAndrew BestNew KILLER ChatGPT Prompt — The “Playoff Method”Super powerful prompt for ChatGPT — 01 PreviewSep 27, 20245K97InArtificial Intelligence in Plain EnglishbyDeon van ZylOpenAI announcement: Canvas, Python Integration, and Custom GPTsThe excitement surrounding OpenAI’s 12 Days of OpenAI is palpable, and day four delivered some notable updates that are set to…Dec 12, 2024InArtificial Intelligence in Plain EnglishbyDeon van ZylHow Meta’s Vision for AI Accounts on Facebook and Instagram BackfiredArtificial Intelligence is reshaping how we interact online, and Meta the parent company of Facebook and Instagram, is at the forefront of…3d agoInArtificial Intelligence in Plain EnglishbyAndrew BestEarn Money with AI in 2025 (3 Ideas Based on Personal Experience)Start 2025 off right!5d ago12See all from Andrew BestSee all from Artificial Intelligence in Plain EnglishRecommended from MediumInThe StartupbyJano le RouxHow This 17-Year-Old Quietly Built a $1.12M/Month AI AppI stumbled upon his exact strategy from A to Z and it's brilliant.Dec 3, 20243.7K67InDataDrivenInvestorbyAustin StarksI used OpenAI’s o1 model to develop a trading strategy. It is DESTROYING the marketIt literally took one try. I was shocked.Sep 15, 20248.1K201ListsWhat is ChatGPT?9 stories·491 savesGenerative AI Recommended Reading52 stories·1589 savesChatGPT prompts 51 stories·2439 savesChatGPT21 stories·937 savesJessica StillmanJeff Bezos Says the 1-Hour Rule Makes Him Smarter. New Neuroscience Says He’s RightJeff Bezos’s morning routine has long included the one-hour rule. New neuroscience says yours probably should too.Oct 30, 202418.6K473InThe PythoneersbyAbhay Parashar17 Mindblowing GitHub Repositories You Never Knew ExistedRepositories To Bookmark Right AwayDec 16, 20242.9K17Prakash Joshi PaxFabric: The Best AI Tool That Nobody is Talking AboutAn open-source AI tool to automate every day tasksAug 26, 20242.8K43InCodeXbyMaximilian VogelWhat Are AI Agents? Your Step-by-Step Guide to Build Your Own.The next big thing? Gartner believes AI agents are the future. OpenAI, Nvidia and Microsoft are betting on it — as are companies such as…Dec 28, 202475813See more recommendationsHelpStatusAboutCareersPressBlogPrivacyTermsText to speechTeams To make Medium work, we log user data. By using Medium, you agree to our Privacy Policy, including cookie policy.\""
      ]
     },
     "execution_count": 5,
     "metadata": {},
     "output_type": "execute_result"
    }
   ],
   "execution_count": 5
  },
  {
   "metadata": {
    "ExecuteTime": {
     "end_time": "2025-01-21T01:17:43.957013Z",
     "start_time": "2025-01-21T01:17:43.954261Z"
    }
   },
   "cell_type": "code",
   "source": "tools = [search, retrieve_medium_article]",
   "id": "29c548cb339e51b4",
   "outputs": [],
   "execution_count": 6
  },
  {
   "metadata": {
    "ExecuteTime": {
     "end_time": "2025-01-21T01:17:44.501442Z",
     "start_time": "2025-01-21T01:17:44.460295Z"
    }
   },
   "cell_type": "code",
   "source": [
    "llm = ChatOllama(model=\"llama3-groq-tool-use\", temperature=0)\n",
    "#model = ChatOllama(model=\"llama3.1\", temperature=0)\n",
    "llm_with_tools = llm.bind_tools(tools)\n",
    "\n",
    "\n",
    "def chatbot(state: State):\n",
    "    return {\"messages\": [llm_with_tools.invoke(state[\"messages\"])]}\n",
    "\n",
    "\n",
    "# The first argument is the unique node name\n",
    "# The second argument is the function or object that will be called whenever\n",
    "# the node is used.\n",
    "graph_builder.add_node(\"chatbot\", chatbot)"
   ],
   "id": "2ff47226e83667c4",
   "outputs": [
    {
     "data": {
      "text/plain": [
       "<langgraph.graph.state.StateGraph at 0x109f8c620>"
      ]
     },
     "execution_count": 7,
     "metadata": {},
     "output_type": "execute_result"
    }
   ],
   "execution_count": 7
  },
  {
   "metadata": {
    "ExecuteTime": {
     "end_time": "2025-01-21T01:17:45.448944Z",
     "start_time": "2025-01-21T01:17:45.446051Z"
    }
   },
   "cell_type": "code",
   "source": "tool_node = ToolNode(tools=tools)",
   "id": "cff1366feb79a606",
   "outputs": [],
   "execution_count": 8
  },
  {
   "metadata": {
    "ExecuteTime": {
     "end_time": "2025-01-21T01:17:46.057168Z",
     "start_time": "2025-01-21T01:17:46.053730Z"
    }
   },
   "cell_type": "code",
   "source": "graph_builder.add_node(\"tools\", tool_node)",
   "id": "d5498cc944a80b0a",
   "outputs": [
    {
     "data": {
      "text/plain": [
       "<langgraph.graph.state.StateGraph at 0x109f8c620>"
      ]
     },
     "execution_count": 9,
     "metadata": {},
     "output_type": "execute_result"
    }
   ],
   "execution_count": 9
  },
  {
   "metadata": {
    "ExecuteTime": {
     "end_time": "2025-01-21T01:17:46.839532Z",
     "start_time": "2025-01-21T01:17:46.834225Z"
    }
   },
   "cell_type": "code",
   "source": [
    "def route_tools(\n",
    "    state: State,\n",
    "):\n",
    "    \"\"\"\n",
    "    Use in the conditional_edge to route to the ToolNode if the last message\n",
    "    has tool calls. Otherwise, route to the end.\n",
    "    \"\"\"\n",
    "    if isinstance(state, list):\n",
    "        ai_message = state[-1]\n",
    "    elif messages := state.get(\"messages\", []):\n",
    "        ai_message = messages[-1]\n",
    "    else:\n",
    "        raise ValueError(f\"No messages found in input state to tool_edge: {state}\")\n",
    "    if hasattr(ai_message, \"tool_calls\") and len(ai_message.tool_calls) > 0:\n",
    "        return \"tools\"\n",
    "    return END\n",
    "\n",
    "\n",
    "# The `tools_condition` function returns \"tools\" if the chatbot asks to use a tool, and \"END\" if\n",
    "# it is fine directly responding. This conditional routing defines the main agent loop.\n",
    "graph_builder.add_conditional_edges(\n",
    "    \"chatbot\",\n",
    "    route_tools,\n",
    "    # The following dictionary lets you tell the graph to interpret the condition's outputs as a specific node\n",
    "    # It defaults to the identity function, but if you\n",
    "    # want to use a node named something else apart from \"tools\",\n",
    "    # You can update the value of the dictionary to something else\n",
    "    # e.g., \"tools\": \"my_tools\"\n",
    "    {\"tools\": \"tools\", END: END},\n",
    ")\n",
    "# Any time a tool is called, we return to the chatbot to decide the next step\n",
    "graph_builder.add_edge(\"tools\", \"chatbot\")\n",
    "graph_builder.add_edge(START, \"chatbot\")\n",
    "graph = graph_builder.compile()"
   ],
   "id": "bb984cd8cd86e9bf",
   "outputs": [],
   "execution_count": 10
  },
  {
   "metadata": {
    "ExecuteTime": {
     "end_time": "2025-01-21T01:21:19.134131Z",
     "start_time": "2025-01-21T01:21:19.129489Z"
    }
   },
   "cell_type": "code",
   "source": [
    "def stream_graph_updates(user_input: str):\n",
    "    for event in graph.stream({\"messages\": [(\"user\", user_input)]}):\n",
    "        for value in event.values():\n",
    "            print(\"\\n\")\n",
    "            print(\"Assistant:\", value[\"messages\"][-1].content)\n",
    "                  "
   ],
   "id": "77ea6f8996148e6f",
   "outputs": [],
   "execution_count": 14
  },
  {
   "metadata": {
    "ExecuteTime": {
     "end_time": "2025-01-21T01:17:49.003559Z",
     "start_time": "2025-01-21T01:17:49.000653Z"
    }
   },
   "cell_type": "code",
   "source": "#stream_graph_updates(\"User: Ask me a question about a subject of your choice. The answer must be yes or no.\")",
   "id": "be2f88b6c97f38e4",
   "outputs": [],
   "execution_count": 12
  },
  {
   "metadata": {
    "ExecuteTime": {
     "end_time": "2025-01-21T01:18:14.446408Z",
     "start_time": "2025-01-21T01:17:49.526999Z"
    }
   },
   "cell_type": "code",
   "source": "stream_graph_updates(\"User: Using the function to retrieve Medium article, get the content of this Medium article https://medium.com/ai-in-plain-english/claude-3-5-sonnet-why-it-is-better-than-chatgpt-7709d7cbc237  and do a summary\")",
   "id": "36cefeeab1e1627a",
   "outputs": [
    {
     "name": "stdout",
     "output_type": "stream",
     "text": [
      "Assistant: \n",
      "Starting scrapping Medium article: https://medium.com/ai-in-plain-english/claude-3-5-sonnet-why-it-is-better-than-chatgpt-7709d7cbc237\n",
      "Successfully scraped and saved article: https://medium.com/ai-in-plain-english/claude-3-5-sonnet-why-it-is-better-than-chatgpt-7709d7cbc237\n",
      "Assistant: Claude 3.5 Sonnet — Why it is BETTER than ChatGPT 😮 | by Andrew Best | Artificial Intelligence in Plain EnglishOpen in appSign upSign inWriteSign upSign inMember-only storyClaude 3.5 Sonnet — Why it is BETTER than ChatGPT 😮The “artifact” feature is a game changerAndrew Best·FollowPublished inArtificial Intelligence in Plain English·4 min read·Jun 26, 20241K22ListenShareFor a while, I was getting used to only using ChatGPT. (Stupid, I know)I’m on the paid plan of ChatGPT, and I felt like there was no point in using anything else.Wrong ❌It is kind of like using Google — I don’t even think about using other search engines. I just blindly go to Google every time (although I’m now starting to use Perplexity)If you don’t have a paid Medium account, you can read for free here.I saw something recently about how Claude 3.5 Sonnet is the best model, even better than ChatGPT (GPT-4o).I also kept seeing these 2 pics everywhere:Claude 3.5 Sonnet vs other Claude ModelsandClaude 3.5 Sonnet vs ChatGPT (GPT-4o) and other LLMsOk, so it looks like Claude 3.5 Sonnet is the best model “on paper”, but is it really the best in the real world?I decided to try it for myself.BTW, if you want to grow your online presence and earn more money online in the AI age:Create an account to read the full story.The author made this story available to Medium members only.If you’re new to Medium, create a new account to read this story on us.Continue in appOr, continue in mobile webSign up with GoogleSign up with FacebookSign up with emailAlready have an account? Sign in1K1K22FollowPublished in Artificial Intelligence in Plain English16.4K Followers·Last published 19 hours agoNew AI, ML and Data Science articles every day. Follow to join our 3.5M+ monthly readers.FollowFollowWritten by Andrew Best7.2K Followers·31 FollowingAI Educator | ChatGPT & Prompt Engineering Expert | 10M+ Podcast Downloads | Co-founder of 88Herbs | AI Course Instructor at Udemy | www.aigrowthguys.comFollowResponses (22)What are your thoughts?CancelRespondRespondAlso publish to my profileMartin Ludwig6 months agoLooks like you are succumbing to the test scores.There is actually very little difference between Claude and ChatGPT test scores.I have been using all 5 top chatbots since the beginning. There is no singular best bot, as much of a person's decision, is also based on their case needs, and the sites' bell and whistles.171 replyReplyKen Adelglass6 months agoI am a Claude convert for writing code. Yesterday I asked it to convert a powershell script that prompts for a customer number and sends to an api and returns data about the customer in the console. I had Claude convert the powershell to python and…...Read More8ReplyCase Flyn6 months agoSolid analysis and a good read. It's nice to see some competition now in the AI space. Without the competition there likely wouldn't be much innovation in such short periods of time.11ReplySee all responsesMore from Andrew Best and Artificial Intelligence in Plain EnglishInArtificial Intelligence in Plain EnglishbyAndrew BestNew KILLER ChatGPT Prompt — The “Playoff Method”Super powerful prompt for ChatGPT — 01 PreviewSep 27, 20245K97InArtificial Intelligence in Plain EnglishbyDeon van ZylOpenAI announcement: Canvas, Python Integration, and Custom GPTsThe excitement surrounding OpenAI’s 12 Days of OpenAI is palpable, and day four delivered some notable updates that are set to…Dec 12, 2024InArtificial Intelligence in Plain EnglishbyDeon van ZylHow Meta’s Vision for AI Accounts on Facebook and Instagram BackfiredArtificial Intelligence is reshaping how we interact online, and Meta the parent company of Facebook and Instagram, is at the forefront of…3d agoInArtificial Intelligence in Plain EnglishbyAndrew BestEarn Money with AI in 2025 (3 Ideas Based on Personal Experience)Start 2025 off right!5d ago12See all from Andrew BestSee all from Artificial Intelligence in Plain EnglishRecommended from MediumInThe StartupbyJano le RouxHow This 17-Year-Old Quietly Built a $1.12M/Month AI AppI stumbled upon his exact strategy from A to Z and it's brilliant.Dec 3, 20243.7K67InDataDrivenInvestorbyAustin StarksI used OpenAI’s o1 model to develop a trading strategy. It is DESTROYING the marketIt literally took one try. I was shocked.Sep 15, 20248.1K201ListsWhat is ChatGPT?9 stories·491 savesGenerative AI Recommended Reading52 stories·1589 savesChatGPT prompts 51 stories·2439 savesChatGPT21 stories·937 savesJessica StillmanJeff Bezos Says the 1-Hour Rule Makes Him Smarter. New Neuroscience Says He’s RightJeff Bezos’s morning routine has long included the one-hour rule. New neuroscience says yours probably should too.Oct 30, 202418.6K473InThe PythoneersbyAbhay Parashar17 Mindblowing GitHub Repositories You Never Knew ExistedRepositories To Bookmark Right AwayDec 16, 20242.9K17Prakash Joshi PaxFabric: The Best AI Tool That Nobody is Talking AboutAn open-source AI tool to automate every day tasksAug 26, 20242.8K43InCodeXbyMaximilian VogelWhat Are AI Agents? Your Step-by-Step Guide to Build Your Own.The next big thing? Gartner believes AI agents are the future. OpenAI, Nvidia and Microsoft are betting on it — as are companies such as…Dec 28, 202475813See more recommendationsHelpStatusAboutCareersPressBlogPrivacyTermsText to speechTeams To make Medium work, we log user data. By using Medium, you agree to our Privacy Policy, including cookie policy.\n",
      "Assistant: The article discusses the author's experience with Claude 3.5 Sonnet and how it compares to ChatGPT. The author found that Claude 3.5 Sonnet is better suited for their needs due to its \"artifact\" feature, which allows for more creative freedom in writing. The article highlights the differences between the two AI models and concludes that Claude 3.5 Sonnet is a game-changer for those looking for more flexibility in their writing.\n"
     ]
    }
   ],
   "execution_count": 13
  },
  {
   "metadata": {},
   "cell_type": "code",
   "outputs": [],
   "execution_count": null,
   "source": [
    "while True:\n",
    "    try:\n",
    "        user_input = input(\"User: \")\n",
    "        if user_input.lower() in [\"quit\", \"exit\", \"q\"]:\n",
    "            print(\"Goodbye!\")\n",
    "            break\n",
    "\n",
    "        stream_graph_updates(user_input)\n",
    "    except:\n",
    "        # fallback if input() is not available\n",
    "        user_input = \"What do you know about LangGraph?\"\n",
    "        print(\"User: \" + user_input)\n",
    "        stream_graph_updates(user_input)\n",
    "        break"
   ],
   "id": "9cbeb7abe3e21a17"
  },
  {
   "metadata": {},
   "cell_type": "code",
   "outputs": [
    {
     "ename": "ModuleNotFoundError",
     "evalue": "No module named 'errors'",
     "output_type": "error",
     "traceback": [
      "\u001B[0;31m---------------------------------------------------------------------------\u001B[0m",
      "\u001B[0;31mModuleNotFoundError\u001B[0m                       Traceback (most recent call last)",
      "Cell \u001B[0;32mIn[55], line 1\u001B[0m\n\u001B[0;32m----> 1\u001B[0m \u001B[38;5;28;01mfrom\u001B[39;00m \u001B[38;5;21;01mscraping\u001B[39;00m\u001B[38;5;21;01m.\u001B[39;00m\u001B[38;5;21;01mlib\u001B[39;00m \u001B[38;5;28;01mimport\u001B[39;00m testimport\n",
      "File \u001B[0;32m~/Desktop/d/safesuperintelligence/scraping/lib.py:1\u001B[0m\n\u001B[0;32m----> 1\u001B[0m \u001B[38;5;28;01mfrom\u001B[39;00m \u001B[38;5;21;01merrors\u001B[39;00m \u001B[38;5;28;01mimport\u001B[39;00m ImproperlyConfigured\n\u001B[1;32m      4\u001B[0m \u001B[38;5;28;01mdef\u001B[39;00m \u001B[38;5;21muser_to_names\u001B[39m(user: \u001B[38;5;28mstr\u001B[39m \u001B[38;5;241m|\u001B[39m \u001B[38;5;28;01mNone\u001B[39;00m) \u001B[38;5;241m-\u001B[39m\u001B[38;5;241m>\u001B[39m \u001B[38;5;28mtuple\u001B[39m[\u001B[38;5;28mstr\u001B[39m, \u001B[38;5;28mstr\u001B[39m]:\n\u001B[1;32m      5\u001B[0m     \u001B[38;5;28;01mif\u001B[39;00m user \u001B[38;5;129;01mis\u001B[39;00m \u001B[38;5;28;01mNone\u001B[39;00m:\n",
      "\u001B[0;31mModuleNotFoundError\u001B[0m: No module named 'errors'"
     ]
    }
   ],
   "execution_count": 55,
   "source": "",
   "id": "17568d75a892354f"
  },
  {
   "metadata": {},
   "cell_type": "code",
   "outputs": [],
   "execution_count": null,
   "source": "",
   "id": "d72bf04a8d7d1110"
  }
 ],
 "metadata": {
  "kernelspec": {
   "display_name": "Python 3",
   "language": "python",
   "name": "python3"
  },
  "language_info": {
   "codemirror_mode": {
    "name": "ipython",
    "version": 2
   },
   "file_extension": ".py",
   "mimetype": "text/x-python",
   "name": "python",
   "nbconvert_exporter": "python",
   "pygments_lexer": "ipython2",
   "version": "2.7.6"
  }
 },
 "nbformat": 4,
 "nbformat_minor": 5
}
