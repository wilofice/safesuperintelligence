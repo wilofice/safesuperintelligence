{
 "cells": [
  {
   "cell_type": "markdown",
   "id": "42e06057eee03407",
   "metadata": {},
   "source": [
    "# 1. Install dependencies"
   ]
  },
  {
   "cell_type": "code",
   "id": "d7935caedf5f6eeb",
   "metadata": {
    "ExecuteTime": {
     "end_time": "2025-01-09T03:01:13.817520Z",
     "start_time": "2025-01-09T03:01:12.135799Z"
    }
   },
   "source": [
    "%pip install --upgrade pip\n",
    "%pip install --upgrade langchain-ollama\n",
    "%pip install --upgrade langgraph"
   ],
   "outputs": [
    {
     "name": "stdout",
     "output_type": "stream",
     "text": [
      "Requirement already satisfied: pip in /opt/miniconda3/envs/chatbot/lib/python3.12/site-packages (24.3.1)\r\n",
      "Note: you may need to restart the kernel to use updated packages.\n",
      "Requirement already satisfied: langchain-ollama in /opt/miniconda3/envs/chatbot/lib/python3.12/site-packages (0.2.2)\r\n",
      "Requirement already satisfied: langchain-core<0.4.0,>=0.3.27 in /opt/miniconda3/envs/chatbot/lib/python3.12/site-packages (from langchain-ollama) (0.3.28)\r\n",
      "Requirement already satisfied: ollama<1,>=0.4.4 in /opt/miniconda3/envs/chatbot/lib/python3.12/site-packages (from langchain-ollama) (0.4.5)\r\n",
      "Requirement already satisfied: PyYAML>=5.3 in /opt/miniconda3/envs/chatbot/lib/python3.12/site-packages (from langchain-core<0.4.0,>=0.3.27->langchain-ollama) (6.0.1)\r\n",
      "Requirement already satisfied: jsonpatch<2.0,>=1.33 in /opt/miniconda3/envs/chatbot/lib/python3.12/site-packages (from langchain-core<0.4.0,>=0.3.27->langchain-ollama) (1.33)\r\n",
      "Requirement already satisfied: langsmith<0.3,>=0.1.125 in /opt/miniconda3/envs/chatbot/lib/python3.12/site-packages (from langchain-core<0.4.0,>=0.3.27->langchain-ollama) (0.2.7)\r\n",
      "Requirement already satisfied: packaging<25,>=23.2 in /opt/miniconda3/envs/chatbot/lib/python3.12/site-packages (from langchain-core<0.4.0,>=0.3.27->langchain-ollama) (23.2)\r\n",
      "Requirement already satisfied: pydantic<3.0.0,>=2.5.2 in /opt/miniconda3/envs/chatbot/lib/python3.12/site-packages (from langchain-core<0.4.0,>=0.3.27->langchain-ollama) (2.10.4)\r\n",
      "Requirement already satisfied: tenacity!=8.4.0,<10.0.0,>=8.1.0 in /opt/miniconda3/envs/chatbot/lib/python3.12/site-packages (from langchain-core<0.4.0,>=0.3.27->langchain-ollama) (8.3.0)\r\n",
      "Requirement already satisfied: typing-extensions>=4.7 in /opt/miniconda3/envs/chatbot/lib/python3.12/site-packages (from langchain-core<0.4.0,>=0.3.27->langchain-ollama) (4.12.2)\r\n",
      "Requirement already satisfied: httpx<0.28.0,>=0.27.0 in /opt/miniconda3/envs/chatbot/lib/python3.12/site-packages (from ollama<1,>=0.4.4->langchain-ollama) (0.27.0)\r\n",
      "Requirement already satisfied: anyio in /opt/miniconda3/envs/chatbot/lib/python3.12/site-packages (from httpx<0.28.0,>=0.27.0->ollama<1,>=0.4.4->langchain-ollama) (4.4.0)\r\n",
      "Requirement already satisfied: certifi in /opt/miniconda3/envs/chatbot/lib/python3.12/site-packages (from httpx<0.28.0,>=0.27.0->ollama<1,>=0.4.4->langchain-ollama) (2024.6.2)\r\n",
      "Requirement already satisfied: httpcore==1.* in /opt/miniconda3/envs/chatbot/lib/python3.12/site-packages (from httpx<0.28.0,>=0.27.0->ollama<1,>=0.4.4->langchain-ollama) (1.0.5)\r\n",
      "Requirement already satisfied: idna in /opt/miniconda3/envs/chatbot/lib/python3.12/site-packages (from httpx<0.28.0,>=0.27.0->ollama<1,>=0.4.4->langchain-ollama) (3.7)\r\n",
      "Requirement already satisfied: sniffio in /opt/miniconda3/envs/chatbot/lib/python3.12/site-packages (from httpx<0.28.0,>=0.27.0->ollama<1,>=0.4.4->langchain-ollama) (1.3.1)\r\n",
      "Requirement already satisfied: h11<0.15,>=0.13 in /opt/miniconda3/envs/chatbot/lib/python3.12/site-packages (from httpcore==1.*->httpx<0.28.0,>=0.27.0->ollama<1,>=0.4.4->langchain-ollama) (0.14.0)\r\n",
      "Requirement already satisfied: jsonpointer>=1.9 in /opt/miniconda3/envs/chatbot/lib/python3.12/site-packages (from jsonpatch<2.0,>=1.33->langchain-core<0.4.0,>=0.3.27->langchain-ollama) (3.0.0)\r\n",
      "Requirement already satisfied: orjson<4.0.0,>=3.9.14 in /opt/miniconda3/envs/chatbot/lib/python3.12/site-packages (from langsmith<0.3,>=0.1.125->langchain-core<0.4.0,>=0.3.27->langchain-ollama) (3.10.4)\r\n",
      "Requirement already satisfied: requests<3,>=2 in /opt/miniconda3/envs/chatbot/lib/python3.12/site-packages (from langsmith<0.3,>=0.1.125->langchain-core<0.4.0,>=0.3.27->langchain-ollama) (2.32.3)\r\n",
      "Requirement already satisfied: requests-toolbelt<2.0.0,>=1.0.0 in /opt/miniconda3/envs/chatbot/lib/python3.12/site-packages (from langsmith<0.3,>=0.1.125->langchain-core<0.4.0,>=0.3.27->langchain-ollama) (1.0.0)\r\n",
      "Requirement already satisfied: annotated-types>=0.6.0 in /opt/miniconda3/envs/chatbot/lib/python3.12/site-packages (from pydantic<3.0.0,>=2.5.2->langchain-core<0.4.0,>=0.3.27->langchain-ollama) (0.7.0)\r\n",
      "Requirement already satisfied: pydantic-core==2.27.2 in /opt/miniconda3/envs/chatbot/lib/python3.12/site-packages (from pydantic<3.0.0,>=2.5.2->langchain-core<0.4.0,>=0.3.27->langchain-ollama) (2.27.2)\r\n",
      "Requirement already satisfied: charset-normalizer<4,>=2 in /opt/miniconda3/envs/chatbot/lib/python3.12/site-packages (from requests<3,>=2->langsmith<0.3,>=0.1.125->langchain-core<0.4.0,>=0.3.27->langchain-ollama) (3.3.2)\r\n",
      "Requirement already satisfied: urllib3<3,>=1.21.1 in /opt/miniconda3/envs/chatbot/lib/python3.12/site-packages (from requests<3,>=2->langsmith<0.3,>=0.1.125->langchain-core<0.4.0,>=0.3.27->langchain-ollama) (2.2.1)\r\n",
      "Note: you may need to restart the kernel to use updated packages.\n",
      "Requirement already satisfied: langgraph in /opt/miniconda3/envs/chatbot/lib/python3.12/site-packages (0.2.61)\r\n",
      "Requirement already satisfied: langchain-core!=0.3.0,!=0.3.1,!=0.3.10,!=0.3.11,!=0.3.12,!=0.3.13,!=0.3.14,!=0.3.15,!=0.3.16,!=0.3.17,!=0.3.18,!=0.3.19,!=0.3.2,!=0.3.20,!=0.3.21,!=0.3.22,!=0.3.3,!=0.3.4,!=0.3.5,!=0.3.6,!=0.3.7,!=0.3.8,!=0.3.9,<0.4.0,>=0.2.43 in /opt/miniconda3/envs/chatbot/lib/python3.12/site-packages (from langgraph) (0.3.28)\r\n",
      "Requirement already satisfied: langgraph-checkpoint<3.0.0,>=2.0.4 in /opt/miniconda3/envs/chatbot/lib/python3.12/site-packages (from langgraph) (2.0.9)\r\n",
      "Requirement already satisfied: langgraph-sdk<0.2.0,>=0.1.42 in /opt/miniconda3/envs/chatbot/lib/python3.12/site-packages (from langgraph) (0.1.48)\r\n",
      "Requirement already satisfied: PyYAML>=5.3 in /opt/miniconda3/envs/chatbot/lib/python3.12/site-packages (from langchain-core!=0.3.0,!=0.3.1,!=0.3.10,!=0.3.11,!=0.3.12,!=0.3.13,!=0.3.14,!=0.3.15,!=0.3.16,!=0.3.17,!=0.3.18,!=0.3.19,!=0.3.2,!=0.3.20,!=0.3.21,!=0.3.22,!=0.3.3,!=0.3.4,!=0.3.5,!=0.3.6,!=0.3.7,!=0.3.8,!=0.3.9,<0.4.0,>=0.2.43->langgraph) (6.0.1)\r\n",
      "Requirement already satisfied: jsonpatch<2.0,>=1.33 in /opt/miniconda3/envs/chatbot/lib/python3.12/site-packages (from langchain-core!=0.3.0,!=0.3.1,!=0.3.10,!=0.3.11,!=0.3.12,!=0.3.13,!=0.3.14,!=0.3.15,!=0.3.16,!=0.3.17,!=0.3.18,!=0.3.19,!=0.3.2,!=0.3.20,!=0.3.21,!=0.3.22,!=0.3.3,!=0.3.4,!=0.3.5,!=0.3.6,!=0.3.7,!=0.3.8,!=0.3.9,<0.4.0,>=0.2.43->langgraph) (1.33)\r\n",
      "Requirement already satisfied: langsmith<0.3,>=0.1.125 in /opt/miniconda3/envs/chatbot/lib/python3.12/site-packages (from langchain-core!=0.3.0,!=0.3.1,!=0.3.10,!=0.3.11,!=0.3.12,!=0.3.13,!=0.3.14,!=0.3.15,!=0.3.16,!=0.3.17,!=0.3.18,!=0.3.19,!=0.3.2,!=0.3.20,!=0.3.21,!=0.3.22,!=0.3.3,!=0.3.4,!=0.3.5,!=0.3.6,!=0.3.7,!=0.3.8,!=0.3.9,<0.4.0,>=0.2.43->langgraph) (0.2.7)\r\n",
      "Requirement already satisfied: packaging<25,>=23.2 in /opt/miniconda3/envs/chatbot/lib/python3.12/site-packages (from langchain-core!=0.3.0,!=0.3.1,!=0.3.10,!=0.3.11,!=0.3.12,!=0.3.13,!=0.3.14,!=0.3.15,!=0.3.16,!=0.3.17,!=0.3.18,!=0.3.19,!=0.3.2,!=0.3.20,!=0.3.21,!=0.3.22,!=0.3.3,!=0.3.4,!=0.3.5,!=0.3.6,!=0.3.7,!=0.3.8,!=0.3.9,<0.4.0,>=0.2.43->langgraph) (23.2)\r\n",
      "Requirement already satisfied: pydantic<3.0.0,>=2.5.2 in /opt/miniconda3/envs/chatbot/lib/python3.12/site-packages (from langchain-core!=0.3.0,!=0.3.1,!=0.3.10,!=0.3.11,!=0.3.12,!=0.3.13,!=0.3.14,!=0.3.15,!=0.3.16,!=0.3.17,!=0.3.18,!=0.3.19,!=0.3.2,!=0.3.20,!=0.3.21,!=0.3.22,!=0.3.3,!=0.3.4,!=0.3.5,!=0.3.6,!=0.3.7,!=0.3.8,!=0.3.9,<0.4.0,>=0.2.43->langgraph) (2.10.4)\r\n",
      "Requirement already satisfied: tenacity!=8.4.0,<10.0.0,>=8.1.0 in /opt/miniconda3/envs/chatbot/lib/python3.12/site-packages (from langchain-core!=0.3.0,!=0.3.1,!=0.3.10,!=0.3.11,!=0.3.12,!=0.3.13,!=0.3.14,!=0.3.15,!=0.3.16,!=0.3.17,!=0.3.18,!=0.3.19,!=0.3.2,!=0.3.20,!=0.3.21,!=0.3.22,!=0.3.3,!=0.3.4,!=0.3.5,!=0.3.6,!=0.3.7,!=0.3.8,!=0.3.9,<0.4.0,>=0.2.43->langgraph) (8.3.0)\r\n",
      "Requirement already satisfied: typing-extensions>=4.7 in /opt/miniconda3/envs/chatbot/lib/python3.12/site-packages (from langchain-core!=0.3.0,!=0.3.1,!=0.3.10,!=0.3.11,!=0.3.12,!=0.3.13,!=0.3.14,!=0.3.15,!=0.3.16,!=0.3.17,!=0.3.18,!=0.3.19,!=0.3.2,!=0.3.20,!=0.3.21,!=0.3.22,!=0.3.3,!=0.3.4,!=0.3.5,!=0.3.6,!=0.3.7,!=0.3.8,!=0.3.9,<0.4.0,>=0.2.43->langgraph) (4.12.2)\r\n",
      "Requirement already satisfied: msgpack<2.0.0,>=1.1.0 in /opt/miniconda3/envs/chatbot/lib/python3.12/site-packages (from langgraph-checkpoint<3.0.0,>=2.0.4->langgraph) (1.1.0)\r\n",
      "Requirement already satisfied: httpx>=0.25.2 in /opt/miniconda3/envs/chatbot/lib/python3.12/site-packages (from langgraph-sdk<0.2.0,>=0.1.42->langgraph) (0.27.0)\r\n",
      "Requirement already satisfied: orjson>=3.10.1 in /opt/miniconda3/envs/chatbot/lib/python3.12/site-packages (from langgraph-sdk<0.2.0,>=0.1.42->langgraph) (3.10.4)\r\n",
      "Requirement already satisfied: anyio in /opt/miniconda3/envs/chatbot/lib/python3.12/site-packages (from httpx>=0.25.2->langgraph-sdk<0.2.0,>=0.1.42->langgraph) (4.4.0)\r\n",
      "Requirement already satisfied: certifi in /opt/miniconda3/envs/chatbot/lib/python3.12/site-packages (from httpx>=0.25.2->langgraph-sdk<0.2.0,>=0.1.42->langgraph) (2024.6.2)\r\n",
      "Requirement already satisfied: httpcore==1.* in /opt/miniconda3/envs/chatbot/lib/python3.12/site-packages (from httpx>=0.25.2->langgraph-sdk<0.2.0,>=0.1.42->langgraph) (1.0.5)\r\n",
      "Requirement already satisfied: idna in /opt/miniconda3/envs/chatbot/lib/python3.12/site-packages (from httpx>=0.25.2->langgraph-sdk<0.2.0,>=0.1.42->langgraph) (3.7)\r\n",
      "Requirement already satisfied: sniffio in /opt/miniconda3/envs/chatbot/lib/python3.12/site-packages (from httpx>=0.25.2->langgraph-sdk<0.2.0,>=0.1.42->langgraph) (1.3.1)\r\n",
      "Requirement already satisfied: h11<0.15,>=0.13 in /opt/miniconda3/envs/chatbot/lib/python3.12/site-packages (from httpcore==1.*->httpx>=0.25.2->langgraph-sdk<0.2.0,>=0.1.42->langgraph) (0.14.0)\r\n",
      "Requirement already satisfied: jsonpointer>=1.9 in /opt/miniconda3/envs/chatbot/lib/python3.12/site-packages (from jsonpatch<2.0,>=1.33->langchain-core!=0.3.0,!=0.3.1,!=0.3.10,!=0.3.11,!=0.3.12,!=0.3.13,!=0.3.14,!=0.3.15,!=0.3.16,!=0.3.17,!=0.3.18,!=0.3.19,!=0.3.2,!=0.3.20,!=0.3.21,!=0.3.22,!=0.3.3,!=0.3.4,!=0.3.5,!=0.3.6,!=0.3.7,!=0.3.8,!=0.3.9,<0.4.0,>=0.2.43->langgraph) (3.0.0)\r\n",
      "Requirement already satisfied: requests<3,>=2 in /opt/miniconda3/envs/chatbot/lib/python3.12/site-packages (from langsmith<0.3,>=0.1.125->langchain-core!=0.3.0,!=0.3.1,!=0.3.10,!=0.3.11,!=0.3.12,!=0.3.13,!=0.3.14,!=0.3.15,!=0.3.16,!=0.3.17,!=0.3.18,!=0.3.19,!=0.3.2,!=0.3.20,!=0.3.21,!=0.3.22,!=0.3.3,!=0.3.4,!=0.3.5,!=0.3.6,!=0.3.7,!=0.3.8,!=0.3.9,<0.4.0,>=0.2.43->langgraph) (2.32.3)\r\n",
      "Requirement already satisfied: requests-toolbelt<2.0.0,>=1.0.0 in /opt/miniconda3/envs/chatbot/lib/python3.12/site-packages (from langsmith<0.3,>=0.1.125->langchain-core!=0.3.0,!=0.3.1,!=0.3.10,!=0.3.11,!=0.3.12,!=0.3.13,!=0.3.14,!=0.3.15,!=0.3.16,!=0.3.17,!=0.3.18,!=0.3.19,!=0.3.2,!=0.3.20,!=0.3.21,!=0.3.22,!=0.3.3,!=0.3.4,!=0.3.5,!=0.3.6,!=0.3.7,!=0.3.8,!=0.3.9,<0.4.0,>=0.2.43->langgraph) (1.0.0)\r\n",
      "Requirement already satisfied: annotated-types>=0.6.0 in /opt/miniconda3/envs/chatbot/lib/python3.12/site-packages (from pydantic<3.0.0,>=2.5.2->langchain-core!=0.3.0,!=0.3.1,!=0.3.10,!=0.3.11,!=0.3.12,!=0.3.13,!=0.3.14,!=0.3.15,!=0.3.16,!=0.3.17,!=0.3.18,!=0.3.19,!=0.3.2,!=0.3.20,!=0.3.21,!=0.3.22,!=0.3.3,!=0.3.4,!=0.3.5,!=0.3.6,!=0.3.7,!=0.3.8,!=0.3.9,<0.4.0,>=0.2.43->langgraph) (0.7.0)\r\n",
      "Requirement already satisfied: pydantic-core==2.27.2 in /opt/miniconda3/envs/chatbot/lib/python3.12/site-packages (from pydantic<3.0.0,>=2.5.2->langchain-core!=0.3.0,!=0.3.1,!=0.3.10,!=0.3.11,!=0.3.12,!=0.3.13,!=0.3.14,!=0.3.15,!=0.3.16,!=0.3.17,!=0.3.18,!=0.3.19,!=0.3.2,!=0.3.20,!=0.3.21,!=0.3.22,!=0.3.3,!=0.3.4,!=0.3.5,!=0.3.6,!=0.3.7,!=0.3.8,!=0.3.9,<0.4.0,>=0.2.43->langgraph) (2.27.2)\r\n",
      "Requirement already satisfied: charset-normalizer<4,>=2 in /opt/miniconda3/envs/chatbot/lib/python3.12/site-packages (from requests<3,>=2->langsmith<0.3,>=0.1.125->langchain-core!=0.3.0,!=0.3.1,!=0.3.10,!=0.3.11,!=0.3.12,!=0.3.13,!=0.3.14,!=0.3.15,!=0.3.16,!=0.3.17,!=0.3.18,!=0.3.19,!=0.3.2,!=0.3.20,!=0.3.21,!=0.3.22,!=0.3.3,!=0.3.4,!=0.3.5,!=0.3.6,!=0.3.7,!=0.3.8,!=0.3.9,<0.4.0,>=0.2.43->langgraph) (3.3.2)\r\n",
      "Requirement already satisfied: urllib3<3,>=1.21.1 in /opt/miniconda3/envs/chatbot/lib/python3.12/site-packages (from requests<3,>=2->langsmith<0.3,>=0.1.125->langchain-core!=0.3.0,!=0.3.1,!=0.3.10,!=0.3.11,!=0.3.12,!=0.3.13,!=0.3.14,!=0.3.15,!=0.3.16,!=0.3.17,!=0.3.18,!=0.3.19,!=0.3.2,!=0.3.20,!=0.3.21,!=0.3.22,!=0.3.3,!=0.3.4,!=0.3.5,!=0.3.6,!=0.3.7,!=0.3.8,!=0.3.9,<0.4.0,>=0.2.43->langgraph) (2.2.1)\r\n",
      "Note: you may need to restart the kernel to use updated packages.\n"
     ]
    }
   ],
   "execution_count": 186
  },
  {
   "cell_type": "markdown",
   "id": "5bf296f5649e9466",
   "metadata": {
    "editable": true,
    "slideshow": {
     "slide_type": ""
    },
    "tags": []
   },
   "source": [
    "# 2. Initialize the model"
   ]
  },
  {
   "cell_type": "code",
   "id": "a1ee1775c6fa5780",
   "metadata": {
    "editable": true,
    "slideshow": {
     "slide_type": ""
    },
    "tags": [],
    "ExecuteTime": {
     "end_time": "2025-01-09T03:01:13.821150Z",
     "start_time": "2025-01-09T03:01:13.818935Z"
    }
   },
   "source": [
    "from langchain_ollama import ChatOllama\n",
    "\n",
    "from langchain_core.messages import HumanMessage\n",
    "from langchain_core.tools import tool\n",
    "from langgraph.checkpoint.memory import MemorySaver"
   ],
   "outputs": [],
   "execution_count": 187
  },
  {
   "metadata": {},
   "cell_type": "markdown",
   "source": "",
   "id": "d13855666364bb17"
  },
  {
   "cell_type": "code",
   "id": "8c18b952c8ac793c",
   "metadata": {
    "editable": true,
    "slideshow": {
     "slide_type": ""
    },
    "tags": [],
    "ExecuteTime": {
     "end_time": "2025-01-09T03:01:13.855081Z",
     "start_time": "2025-01-09T03:01:13.821805Z"
    }
   },
   "source": [
    "model = ChatOllama(model=\"llama3-groq-tool-use\", temperature=0)\n",
    "#model = ChatOllama(model=\"llama3.1\", temperature=0)"
   ],
   "outputs": [],
   "execution_count": 188
  },
  {
   "cell_type": "code",
   "id": "fbe7f545cbb7af8f",
   "metadata": {
    "editable": true,
    "slideshow": {
     "slide_type": ""
    },
    "tags": [],
    "ExecuteTime": {
     "end_time": "2025-01-09T03:01:13.858360Z",
     "start_time": "2025-01-09T03:01:13.856195Z"
    }
   },
   "source": [
    "# Create the primary assistant prompt template\n",
    "from langchain_core.prompts import ChatPromptTemplate\n",
    "primary_assistant_prompt = ChatPromptTemplate.from_messages(\n",
    "    [\n",
    "        (\n",
    "            \"system\",\n",
    "            \"You are a helpful assistant tasked with answering user questions. \"\n",
    "            \"You have access to two tools: retrieve_documents and web_search. \"\n",
    "            \"For any user questions about LLM agents, use the retrieve_documents tool to get information for a vectorstore. \"\n",
    "            \"For any other questions, such as questions about current events, use the web_search tool to get information from the web. \",\n",
    "        ),\n",
    "        (\"placeholder\", \"{messages}\"),\n",
    "    ]\n",
    ")"
   ],
   "outputs": [],
   "execution_count": 189
  },
  {
   "cell_type": "code",
   "id": "d9f8edf86d805fa8",
   "metadata": {
    "ExecuteTime": {
     "end_time": "2025-01-09T03:01:13.860099Z",
     "start_time": "2025-01-09T03:01:13.858910Z"
    }
   },
   "source": [],
   "outputs": [],
   "execution_count": 189
  },
  {
   "cell_type": "markdown",
   "id": "602e2de1f65ba9f",
   "metadata": {
    "editable": true,
    "slideshow": {
     "slide_type": ""
    },
    "tags": []
   },
   "source": [
    "# 3. Initialize the tools"
   ]
  },
  {
   "cell_type": "code",
   "id": "fbe596a9182ac27d",
   "metadata": {
    "editable": true,
    "slideshow": {
     "slide_type": ""
    },
    "tags": [],
    "ExecuteTime": {
     "end_time": "2025-01-09T03:01:13.863838Z",
     "start_time": "2025-01-09T03:01:13.860591Z"
    }
   },
   "source": [
    "from langgraph.prebuilt import ToolNode\n",
    "\n",
    "@tool\n",
    "def search(query: str):\n",
    "    \"\"\"Run web search on the question.\n",
    "    \n",
    "    Args:\n",
    "        query (str): The query to search for.\n",
    "\n",
    "    Returns:\n",
    "        str: The answer to the question.\n",
    "    \"\"\"\n",
    "    if \"sf\" in query.lower() or \"san francisco\" in query.lower():\n",
    "        return \"It's 0 ° and foggy.\"\n",
    "    return \"It's 90 ° and sunny.\"\n",
    "\n",
    "\n",
    "tools = [search]\n",
    "\n",
    "tool_node = ToolNode(tools)"
   ],
   "outputs": [],
   "execution_count": 190
  },
  {
   "metadata": {
    "ExecuteTime": {
     "end_time": "2025-01-09T03:01:13.865490Z",
     "start_time": "2025-01-09T03:01:13.864376Z"
    }
   },
   "cell_type": "code",
   "source": "",
   "id": "dcb28e6f35634dc2",
   "outputs": [],
   "execution_count": 190
  },
  {
   "cell_type": "markdown",
   "id": "19dbda70f1ead831",
   "metadata": {
    "editable": true,
    "slideshow": {
     "slide_type": ""
    },
    "tags": []
   },
   "source": [
    "# 4. Initialize graph with state"
   ]
  },
  {
   "cell_type": "code",
   "id": "1f6eaead599cb0a9",
   "metadata": {
    "editable": true,
    "slideshow": {
     "slide_type": ""
    },
    "tags": [],
    "ExecuteTime": {
     "end_time": "2025-01-09T03:01:13.867460Z",
     "start_time": "2025-01-09T03:01:13.866019Z"
    }
   },
   "source": [
    "from langgraph.graph import END, START, StateGraph, MessagesState"
   ],
   "outputs": [],
   "execution_count": 191
  },
  {
   "cell_type": "code",
   "id": "e01eed6b12247743",
   "metadata": {
    "editable": true,
    "slideshow": {
     "slide_type": ""
    },
    "tags": [],
    "ExecuteTime": {
     "end_time": "2025-01-09T03:01:13.869721Z",
     "start_time": "2025-01-09T03:01:13.867930Z"
    }
   },
   "source": [
    "from typing import Annotated, Literal, TypedDict\n",
    "\n",
    "# Define the function that determines whether to continue or not\n",
    "def should_continue(state: MessagesState) -> Literal[\"tools\", END]:\n",
    "    messages = state['messages']\n",
    "    last_message = messages[-1]\n",
    "    # If the LLM makes a tool call, then we route to the \"tools\" node\n",
    "    if \"tool_call\" in last_message.content:\n",
    "        return \"tools\"\n",
    "    # Otherwise, we stop (reply to the user)\n",
    "    return END\n",
    "\n",
    "\n",
    "# Define the function that calls the model\n",
    "def call_model(state: MessagesState):\n",
    "    messages = state['messages']\n",
    "    response = model.invoke(messages)\n",
    "    # We return a list, because this will get added to the existing list\n",
    "    return {\"messages\": [response]}"
   ],
   "outputs": [],
   "execution_count": 192
  },
  {
   "cell_type": "markdown",
   "id": "5073f8d2881657c0",
   "metadata": {
    "editable": true,
    "slideshow": {
     "slide_type": ""
    },
    "tags": []
   },
   "source": [
    "# 5. Define graph nodes"
   ]
  },
  {
   "cell_type": "markdown",
   "id": "71662e23dc512dcc",
   "metadata": {
    "editable": true,
    "slideshow": {
     "slide_type": ""
    },
    "tags": []
   },
   "source": [
    "## 5.1 CREATE AN ASSISTANT CLASS"
   ]
  },
  {
   "cell_type": "code",
   "id": "2b4630b27f91b1d2",
   "metadata": {
    "editable": true,
    "slideshow": {
     "slide_type": ""
    },
    "tags": [],
    "ExecuteTime": {
     "end_time": "2025-01-09T03:01:13.874944Z",
     "start_time": "2025-01-09T03:01:13.871093Z"
    }
   },
   "source": [
    "from langchain_core.runnables import Runnable, RunnableConfig\n",
    "from typing_extensions import TypedDict\n",
    "from langchain_core.runnables import Runnable, RunnableConfig\n",
    "from langgraph.graph.message import AnyMessage, add_messages\n",
    "from typing import Annotated, List\n",
    "from langchain_core.prompts import ChatPromptTemplate\n",
    "\n",
    "class State(TypedDict):\n",
    "    messages: Annotated[list[AnyMessage], add_messages]\n",
    "\n",
    "\n",
    "\n",
    "class Assistant:\n",
    "    def __init__(self, runnable: Runnable):\n",
    "        \"\"\"\n",
    "        Initialize the Assistant with a runnable object.\n",
    "\n",
    "        Args:\n",
    "            runnable (Runnable): The runnable instance to invoke.\n",
    "        \"\"\"\n",
    "        self.runnable = runnable\n",
    "\n",
    "    def __call__(self, state: State, config: RunnableConfig):\n",
    "        \"\"\"\n",
    "        Call method to invoke the LLM and handle its responses.\n",
    "        Re-prompt the assistant if the response is not a tool call or meaningful text.\n",
    "\n",
    "        Args:\n",
    "            state (State): The current state containing messages.\n",
    "            config (RunnableConfig): The configuration for the runnable.\n",
    "\n",
    "        Returns:\n",
    "            dict: The final state containing the updated messages.\n",
    "        \"\"\"\n",
    "        while True:\n",
    "            result = self.runnable.invoke(state)  # Invoke the LLM\n",
    "            if not result.tool_calls and (\n",
    "                not result.content\n",
    "                or isinstance(result.content, list)\n",
    "                and not result.content[0].get(\"text\")\n",
    "            ):\n",
    "                messages = state[\"messages\"] + [(\"user\", \"Respond with a real output.\")]\n",
    "                state = {**state, \"messages\": messages}\n",
    "            else:\n",
    "                break\n",
    "        return {\"messages\": result}\n",
    "\n",
    "\n",
    "# Create the primary assistant prompt template\n",
    "primary_assistant_prompt = ChatPromptTemplate.from_messages(\n",
    "    [\n",
    "        (\n",
    "            \"system\",\n",
    "            \"You are a helpful assistant tasked with answering user questions. \"\n",
    "            \"You have access to one tool: search .\"\n",
    "            \"For any questions, such as questions about current events, use the search tool to get real time information from the web. \",\n",
    "        ),\n",
    "        (\"placeholder\", \"{messages}\"),\n",
    "    ]\n",
    ")\n",
    "\n",
    "# Prompt our LLM and bind tools\n",
    "assistant_runnable = primary_assistant_prompt | model.bind_tools(tools)"
   ],
   "outputs": [],
   "execution_count": 193
  },
  {
   "cell_type": "markdown",
   "id": "b6a6fa4e139f8232",
   "metadata": {
    "editable": true,
    "slideshow": {
     "slide_type": ""
    },
    "tags": []
   },
   "source": [
    "## 5.2 Create the graph"
   ]
  },
  {
   "cell_type": "code",
   "id": "aaf48e4043c219b3",
   "metadata": {
    "editable": true,
    "slideshow": {
     "slide_type": ""
    },
    "tags": [],
    "ExecuteTime": {
     "end_time": "2025-01-09T03:01:13.877936Z",
     "start_time": "2025-01-09T03:01:13.875406Z"
    }
   },
   "source": [
    "# Define a new graph\n",
    "workflow = StateGraph(MessagesState)\n",
    "\n",
    "# Define the two nodes we will cycle between\n",
    "workflow.add_node(\"agent\", Assistant(assistant_runnable))\n",
    "workflow.add_node(\"tools\", tool_node)"
   ],
   "outputs": [
    {
     "data": {
      "text/plain": [
       "<langgraph.graph.state.StateGraph at 0x10b9fdb50>"
      ]
     },
     "execution_count": 194,
     "metadata": {},
     "output_type": "execute_result"
    }
   ],
   "execution_count": 194
  },
  {
   "cell_type": "code",
   "id": "9ffac182e7bb4678",
   "metadata": {
    "editable": true,
    "slideshow": {
     "slide_type": ""
    },
    "tags": [],
    "ExecuteTime": {
     "end_time": "2025-01-09T03:01:13.880315Z",
     "start_time": "2025-01-09T03:01:13.878752Z"
    }
   },
   "source": [
    "# Set the entrypoint as `agent`\n",
    "# This means that this node is the first one called\n",
    "workflow.add_edge(START, \"agent\")"
   ],
   "outputs": [
    {
     "data": {
      "text/plain": [
       "<langgraph.graph.state.StateGraph at 0x10b9fdb50>"
      ]
     },
     "execution_count": 195,
     "metadata": {},
     "output_type": "execute_result"
    }
   ],
   "execution_count": 195
  },
  {
   "cell_type": "code",
   "id": "7b093625cfb9e396",
   "metadata": {
    "editable": true,
    "slideshow": {
     "slide_type": ""
    },
    "tags": [],
    "ExecuteTime": {
     "end_time": "2025-01-09T03:01:13.882328Z",
     "start_time": "2025-01-09T03:01:13.880704Z"
    }
   },
   "source": "workflow.add_conditional_edges(\"agent\", should_continue, [\"tools\", END])",
   "outputs": [
    {
     "data": {
      "text/plain": [
       "<langgraph.graph.state.StateGraph at 0x10b9fdb50>"
      ]
     },
     "execution_count": 196,
     "metadata": {},
     "output_type": "execute_result"
    }
   ],
   "execution_count": 196
  },
  {
   "cell_type": "code",
   "id": "f1c8cb060ca934b",
   "metadata": {
    "editable": true,
    "slideshow": {
     "slide_type": ""
    },
    "tags": [],
    "ExecuteTime": {
     "end_time": "2025-01-09T03:01:13.884348Z",
     "start_time": "2025-01-09T03:01:13.882762Z"
    }
   },
   "source": [
    "workflow.add_edge(\"tools\", 'agent')"
   ],
   "outputs": [
    {
     "data": {
      "text/plain": [
       "<langgraph.graph.state.StateGraph at 0x10b9fdb50>"
      ]
     },
     "execution_count": 197,
     "metadata": {},
     "output_type": "execute_result"
    }
   ],
   "execution_count": 197
  },
  {
   "cell_type": "code",
   "id": "4ca945810b29ce26",
   "metadata": {
    "editable": true,
    "slideshow": {
     "slide_type": ""
    },
    "tags": [],
    "ExecuteTime": {
     "end_time": "2025-01-09T03:01:13.886044Z",
     "start_time": "2025-01-09T03:01:13.884804Z"
    }
   },
   "source": [
    "checkpointer = MemorySaver()"
   ],
   "outputs": [],
   "execution_count": 198
  },
  {
   "cell_type": "markdown",
   "id": "630fc62f609f1a98",
   "metadata": {
    "editable": true,
    "slideshow": {
     "slide_type": ""
    },
    "tags": []
   },
   "source": []
  },
  {
   "cell_type": "markdown",
   "id": "35283fd2a5eabd1e",
   "metadata": {
    "editable": true,
    "slideshow": {
     "slide_type": ""
    },
    "tags": []
   },
   "source": [
    "# 6. Define entry point and graph edges "
   ]
  },
  {
   "cell_type": "markdown",
   "id": "d79a75a41314b19f",
   "metadata": {
    "editable": true,
    "slideshow": {
     "slide_type": ""
    },
    "tags": []
   },
   "source": [
    "# 7. Compile the graph"
   ]
  },
  {
   "cell_type": "code",
   "id": "5f7f31cf12f49900",
   "metadata": {
    "editable": true,
    "slideshow": {
     "slide_type": ""
    },
    "tags": [],
    "ExecuteTime": {
     "end_time": "2025-01-09T03:01:13.887930Z",
     "start_time": "2025-01-09T03:01:13.886513Z"
    }
   },
   "source": [
    "app = workflow.compile(checkpointer=checkpointer)"
   ],
   "outputs": [],
   "execution_count": 199
  },
  {
   "cell_type": "code",
   "id": "e6b3f4a8-93b4-4d1e-8886-5858dd674db8",
   "metadata": {
    "editable": true,
    "slideshow": {
     "slide_type": ""
    },
    "tags": [],
    "ExecuteTime": {
     "end_time": "2025-01-09T03:01:13.955679Z",
     "start_time": "2025-01-09T03:01:13.888384Z"
    }
   },
   "source": [
    "from IPython.display import Image, display\n",
    "display(Image(app.get_graph(xray=True).draw_mermaid_png()))"
   ],
   "outputs": [
    {
     "data": {
      "image/png": "[encoded data removed]",
      "text/plain": [
       "<IPython.core.display.Image object>"
      ]
     },
     "metadata": {},
     "output_type": "display_data"
    }
   ],
   "execution_count": 200
  },
  {
   "cell_type": "code",
   "id": "3de0595630b986f3",
   "metadata": {
    "editable": true,
    "slideshow": {
     "slide_type": ""
    },
    "tags": [],
    "ExecuteTime": {
     "end_time": "2025-01-09T03:01:37.058716Z",
     "start_time": "2025-01-09T03:01:34.686348Z"
    }
   },
   "source": [
    "final_state = app.invoke(\n",
    "    {\"messages\": [HumanMessage(content=\"What is the weather in sf ? Use the search tool to find the weather in sf. \")]},\n",
    "    config={\"configurable\": {\"thread_id\": 45}}\n",
    ")\n",
    "final_state[\"messages\"][-1].content# 8. Run Graph\n"
   ],
   "outputs": [
    {
     "data": {
      "text/plain": [
       "'The current weather in San Francisco (SF) is partly cloudy with a temperature of 68°F (20°C).'"
      ]
     },
     "execution_count": 202,
     "metadata": {},
     "output_type": "execute_result"
    }
   ],
   "execution_count": 202
  },
  {
   "cell_type": "code",
   "id": "d1095b58-3de4-4f04-bcbd-c224241be87d",
   "metadata": {
    "editable": true,
    "slideshow": {
     "slide_type": ""
    },
    "tags": [],
    "ExecuteTime": {
     "end_time": "2025-01-09T02:53:36.384003Z",
     "start_time": "2025-01-09T02:53:34.388435Z"
    }
   },
   "source": [
    "final_state = app.invoke(\n",
    "    {\"messages\": [HumanMessage(content=\"What is the weather in Paris ? Use the search function to find the latest information.\")]},\n",
    "    config={\"configurable\": {\"thread_id\": 1}}\n",
    ")\n",
    "final_state[\"messages\"][-1].content# 8. Run Graph"
   ],
   "outputs": [
    {
     "data": {
      "text/plain": [
       "'The current weather in Paris is partly cloudy with a temperature of 18°C (64°F).'"
      ]
     },
     "execution_count": 161,
     "metadata": {},
     "output_type": "execute_result"
    }
   ],
   "execution_count": 161
  },
  {
   "cell_type": "code",
   "id": "18433265-e441-4a7a-8df8-7631be699b31",
   "metadata": {
    "editable": true,
    "slideshow": {
     "slide_type": ""
    },
    "tags": [],
    "ExecuteTime": {
     "end_time": "2025-01-09T03:02:04.046351Z",
     "start_time": "2025-01-09T03:02:04.040192Z"
    }
   },
   "source": "final_state[\"messages\"]",
   "outputs": [
    {
     "data": {
      "text/plain": [
       "[HumanMessage(content='What is the weather in sf ? Use the search tool to find the weather in sf. ', additional_kwargs={}, response_metadata={}, id='645bd9a1-227e-4ab7-91bf-d7d6010407b2'),\n",
       " AIMessage(content='<tool_call>\\n{\"id\": 0, \"name\": \"search\", \"arguments\": {\"query\": \"weather in sf\"}}\\n</tool_call>', additional_kwargs={}, response_metadata={'model': 'llama3-groq-tool-use', 'created_at': '2025-01-09T03:01:36.071319Z', 'done': True, 'done_reason': 'stop', 'total_duration': 1370356792, 'load_duration': 28263959, 'prompt_eval_count': 236, 'prompt_eval_duration': 347187000, 'eval_count': 27, 'eval_duration': 992487000, 'message': Message(role='assistant', content='', images=None, tool_calls=None)}, id='run-5c931add-7583-4f71-8a45-b31e34cfd230-0', usage_metadata={'input_tokens': 236, 'output_tokens': 27, 'total_tokens': 263}),\n",
       " AIMessage(content='The current weather in San Francisco (SF) is partly cloudy with a temperature of 68°F (20°C).', additional_kwargs={}, response_metadata={'model': 'llama3-groq-tool-use', 'created_at': '2025-01-09T03:01:37.052701Z', 'done': True, 'done_reason': 'stop', 'total_duration': 978504166, 'load_duration': 11467833, 'prompt_eval_count': 267, 'prompt_eval_duration': 91097000, 'eval_count': 24, 'eval_duration': 873629000, 'message': Message(role='assistant', content='', images=None, tool_calls=None)}, id='run-2c9cc012-f822-46b2-88b7-d1896ec8d3a8-0', usage_metadata={'input_tokens': 267, 'output_tokens': 24, 'total_tokens': 291})]"
      ]
     },
     "execution_count": 203,
     "metadata": {},
     "output_type": "execute_result"
    }
   ],
   "execution_count": 203
  },
  {
   "metadata": {
    "ExecuteTime": {
     "end_time": "2025-01-09T02:53:36.396147Z",
     "start_time": "2025-01-09T02:53:36.394203Z"
    }
   },
   "cell_type": "code",
   "source": "",
   "id": "53d861f29c1dead0",
   "outputs": [],
   "execution_count": 162
  }
 ],
 "metadata": {
  "kernelspec": {
   "display_name": "Python 3 (ipykernel)",
   "language": "python",
   "name": "python3"
  },
  "language_info": {
   "codemirror_mode": {
    "name": "ipython",
    "version": 3
   },
   "file_extension": ".py",
   "mimetype": "text/x-python",
   "name": "python",
   "nbconvert_exporter": "python",
   "pygments_lexer": "ipython3",
   "version": "3.12.3"
  }
 },
 "nbformat": 4,
 "nbformat_minor": 5
}
