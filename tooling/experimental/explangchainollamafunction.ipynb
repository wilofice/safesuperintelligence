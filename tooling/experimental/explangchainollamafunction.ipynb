{
 "cells": [
  {
   "metadata": {
    "ExecuteTime": {
     "end_time": "2024-07-20T04:48:46.684041Z",
     "start_time": "2024-07-20T04:48:44.562904Z"
    }
   },
   "cell_type": "code",
   "source": "%pip install --upgrade langchain_experimental",
   "id": "e68b2dcc64ab9aa0",
   "outputs": [
    {
     "name": "stdout",
     "output_type": "stream",
     "text": [
      "Collecting langchain_experimental\r\n",
      "  Downloading langchain_experimental-0.0.62-py3-none-any.whl.metadata (1.5 kB)\r\n",
      "Requirement already satisfied: langchain-community<0.3.0,>=0.2.6 in /home/mica/miniconda3/envs/safesuperintelligence/lib/python3.11/site-packages (from langchain_experimental) (0.2.7)\r\n",
      "Requirement already satisfied: langchain-core<0.3.0,>=0.2.10 in /home/mica/miniconda3/envs/safesuperintelligence/lib/python3.11/site-packages (from langchain_experimental) (0.2.20)\r\n",
      "Requirement already satisfied: PyYAML>=5.3 in /home/mica/miniconda3/envs/safesuperintelligence/lib/python3.11/site-packages (from langchain-community<0.3.0,>=0.2.6->langchain_experimental) (6.0.1)\r\n",
      "Requirement already satisfied: SQLAlchemy<3,>=1.4 in /home/mica/miniconda3/envs/safesuperintelligence/lib/python3.11/site-packages (from langchain-community<0.3.0,>=0.2.6->langchain_experimental) (2.0.31)\r\n",
      "Requirement already satisfied: aiohttp<4.0.0,>=3.8.3 in /home/mica/miniconda3/envs/safesuperintelligence/lib/python3.11/site-packages (from langchain-community<0.3.0,>=0.2.6->langchain_experimental) (3.9.5)\r\n",
      "Requirement already satisfied: dataclasses-json<0.7,>=0.5.7 in /home/mica/miniconda3/envs/safesuperintelligence/lib/python3.11/site-packages (from langchain-community<0.3.0,>=0.2.6->langchain_experimental) (0.6.7)\r\n",
      "Requirement already satisfied: langchain<0.3.0,>=0.2.7 in /home/mica/miniconda3/envs/safesuperintelligence/lib/python3.11/site-packages (from langchain-community<0.3.0,>=0.2.6->langchain_experimental) (0.2.9)\r\n",
      "Requirement already satisfied: langsmith<0.2.0,>=0.1.0 in /home/mica/miniconda3/envs/safesuperintelligence/lib/python3.11/site-packages (from langchain-community<0.3.0,>=0.2.6->langchain_experimental) (0.1.88)\r\n",
      "Requirement already satisfied: numpy<2,>=1 in /home/mica/miniconda3/envs/safesuperintelligence/lib/python3.11/site-packages (from langchain-community<0.3.0,>=0.2.6->langchain_experimental) (1.26.4)\r\n",
      "Requirement already satisfied: requests<3,>=2 in /home/mica/miniconda3/envs/safesuperintelligence/lib/python3.11/site-packages (from langchain-community<0.3.0,>=0.2.6->langchain_experimental) (2.32.2)\r\n",
      "Requirement already satisfied: tenacity!=8.4.0,<9.0.0,>=8.1.0 in /home/mica/miniconda3/envs/safesuperintelligence/lib/python3.11/site-packages (from langchain-community<0.3.0,>=0.2.6->langchain_experimental) (8.5.0)\r\n",
      "Requirement already satisfied: jsonpatch<2.0,>=1.33 in /home/mica/miniconda3/envs/safesuperintelligence/lib/python3.11/site-packages (from langchain-core<0.3.0,>=0.2.10->langchain_experimental) (1.33)\r\n",
      "Requirement already satisfied: packaging<25,>=23.2 in /home/mica/miniconda3/envs/safesuperintelligence/lib/python3.11/site-packages (from langchain-core<0.3.0,>=0.2.10->langchain_experimental) (24.1)\r\n",
      "Requirement already satisfied: pydantic<3,>=1 in /home/mica/miniconda3/envs/safesuperintelligence/lib/python3.11/site-packages (from langchain-core<0.3.0,>=0.2.10->langchain_experimental) (2.8.2)\r\n",
      "Requirement already satisfied: aiosignal>=1.1.2 in /home/mica/miniconda3/envs/safesuperintelligence/lib/python3.11/site-packages (from aiohttp<4.0.0,>=3.8.3->langchain-community<0.3.0,>=0.2.6->langchain_experimental) (1.3.1)\r\n",
      "Requirement already satisfied: attrs>=17.3.0 in /home/mica/miniconda3/envs/safesuperintelligence/lib/python3.11/site-packages (from aiohttp<4.0.0,>=3.8.3->langchain-community<0.3.0,>=0.2.6->langchain_experimental) (23.2.0)\r\n",
      "Requirement already satisfied: frozenlist>=1.1.1 in /home/mica/miniconda3/envs/safesuperintelligence/lib/python3.11/site-packages (from aiohttp<4.0.0,>=3.8.3->langchain-community<0.3.0,>=0.2.6->langchain_experimental) (1.4.1)\r\n",
      "Requirement already satisfied: multidict<7.0,>=4.5 in /home/mica/miniconda3/envs/safesuperintelligence/lib/python3.11/site-packages (from aiohttp<4.0.0,>=3.8.3->langchain-community<0.3.0,>=0.2.6->langchain_experimental) (6.0.5)\r\n",
      "Requirement already satisfied: yarl<2.0,>=1.0 in /home/mica/miniconda3/envs/safesuperintelligence/lib/python3.11/site-packages (from aiohttp<4.0.0,>=3.8.3->langchain-community<0.3.0,>=0.2.6->langchain_experimental) (1.9.4)\r\n",
      "Requirement already satisfied: marshmallow<4.0.0,>=3.18.0 in /home/mica/miniconda3/envs/safesuperintelligence/lib/python3.11/site-packages (from dataclasses-json<0.7,>=0.5.7->langchain-community<0.3.0,>=0.2.6->langchain_experimental) (3.21.3)\r\n",
      "Requirement already satisfied: typing-inspect<1,>=0.4.0 in /home/mica/miniconda3/envs/safesuperintelligence/lib/python3.11/site-packages (from dataclasses-json<0.7,>=0.5.7->langchain-community<0.3.0,>=0.2.6->langchain_experimental) (0.9.0)\r\n",
      "Requirement already satisfied: jsonpointer>=1.9 in /home/mica/miniconda3/envs/safesuperintelligence/lib/python3.11/site-packages (from jsonpatch<2.0,>=1.33->langchain-core<0.3.0,>=0.2.10->langchain_experimental) (3.0.0)\r\n",
      "Requirement already satisfied: langchain-text-splitters<0.3.0,>=0.2.0 in /home/mica/miniconda3/envs/safesuperintelligence/lib/python3.11/site-packages (from langchain<0.3.0,>=0.2.7->langchain-community<0.3.0,>=0.2.6->langchain_experimental) (0.2.2)\r\n",
      "Requirement already satisfied: orjson<4.0.0,>=3.9.14 in /home/mica/miniconda3/envs/safesuperintelligence/lib/python3.11/site-packages (from langsmith<0.2.0,>=0.1.0->langchain-community<0.3.0,>=0.2.6->langchain_experimental) (3.10.6)\r\n",
      "Requirement already satisfied: annotated-types>=0.4.0 in /home/mica/miniconda3/envs/safesuperintelligence/lib/python3.11/site-packages (from pydantic<3,>=1->langchain-core<0.3.0,>=0.2.10->langchain_experimental) (0.7.0)\r\n",
      "Requirement already satisfied: pydantic-core==2.20.1 in /home/mica/miniconda3/envs/safesuperintelligence/lib/python3.11/site-packages (from pydantic<3,>=1->langchain-core<0.3.0,>=0.2.10->langchain_experimental) (2.20.1)\r\n",
      "Requirement already satisfied: typing-extensions>=4.6.1 in /home/mica/miniconda3/envs/safesuperintelligence/lib/python3.11/site-packages (from pydantic<3,>=1->langchain-core<0.3.0,>=0.2.10->langchain_experimental) (4.9.0)\r\n",
      "Requirement already satisfied: charset-normalizer<4,>=2 in /home/mica/miniconda3/envs/safesuperintelligence/lib/python3.11/site-packages (from requests<3,>=2->langchain-community<0.3.0,>=0.2.6->langchain_experimental) (2.0.4)\r\n",
      "Requirement already satisfied: idna<4,>=2.5 in /home/mica/miniconda3/envs/safesuperintelligence/lib/python3.11/site-packages (from requests<3,>=2->langchain-community<0.3.0,>=0.2.6->langchain_experimental) (3.7)\r\n",
      "Requirement already satisfied: urllib3<3,>=1.21.1 in /home/mica/miniconda3/envs/safesuperintelligence/lib/python3.11/site-packages (from requests<3,>=2->langchain-community<0.3.0,>=0.2.6->langchain_experimental) (2.2.2)\r\n",
      "Requirement already satisfied: certifi>=2017.4.17 in /home/mica/miniconda3/envs/safesuperintelligence/lib/python3.11/site-packages (from requests<3,>=2->langchain-community<0.3.0,>=0.2.6->langchain_experimental) (2024.7.4)\r\n",
      "Requirement already satisfied: greenlet!=0.4.17 in /home/mica/miniconda3/envs/safesuperintelligence/lib/python3.11/site-packages (from SQLAlchemy<3,>=1.4->langchain-community<0.3.0,>=0.2.6->langchain_experimental) (3.0.3)\r\n",
      "Requirement already satisfied: mypy-extensions>=0.3.0 in /home/mica/miniconda3/envs/safesuperintelligence/lib/python3.11/site-packages (from typing-inspect<1,>=0.4.0->dataclasses-json<0.7,>=0.5.7->langchain-community<0.3.0,>=0.2.6->langchain_experimental) (1.0.0)\r\n",
      "Downloading langchain_experimental-0.0.62-py3-none-any.whl (202 kB)\r\n",
      "\u001B[2K   \u001B[38;2;114;156;31m━━━━━━━━━━━━━━━━━━━━━━━━━━━━━━━━━━━━━━━━\u001B[0m \u001B[32m202.7/202.7 kB\u001B[0m \u001B[31m3.1 MB/s\u001B[0m eta \u001B[36m0:00:00\u001B[0m MB/s\u001B[0m eta \u001B[36m0:00:01\u001B[0m\r\n",
      "\u001B[?25hInstalling collected packages: langchain_experimental\r\n",
      "Successfully installed langchain_experimental-0.0.62\r\n",
      "Note: you may need to restart the kernel to use updated packages.\n"
     ]
    }
   ],
   "execution_count": 1
  },
  {
   "metadata": {},
   "cell_type": "code",
   "outputs": [],
   "execution_count": null,
   "source": [
    "from langchain_experimental.llms.ollama_functions import OllamaFunctions\n",
    "model = OllamaFunctions(model=\"llama3\", format=\"json\")"
   ],
   "id": "initial_id"
  },
  {
   "metadata": {},
   "cell_type": "code",
   "outputs": [],
   "execution_count": null,
   "source": [
    "model = model.bind_tools(\n",
    "    tools=[\n",
    "        {\n",
    "            \"name\": \"get_current_weather\",\n",
    "            \"description\": \"Get the current weather in a given location\",\n",
    "            \"parameters\": {\n",
    "                \"type\": \"object\",\n",
    "                \"properties\": {\n",
    "                    \"location\": {\n",
    "                        \"type\": \"string\",\n",
    "                        \"description\": \"The city and state, \" \"e.g. San Francisco, CA\",\n",
    "                    },\n",
    "                    \"unit\": {\n",
    "                        \"type\": \"string\",\n",
    "                        \"enum\": [\"celsius\", \"fahrenheit\"],\n",
    "                    },\n",
    "                },\n",
    "                \"required\": [\"location\"],\n",
    "            },\n",
    "        }\n",
    "    ],\n",
    "    function_call={\"name\": \"get_current_weather\"},\n",
    ")"
   ],
   "id": "6ebf97f61b46ef9f"
  },
  {
   "metadata": {},
   "cell_type": "code",
   "outputs": [],
   "execution_count": null,
   "source": [
    "from langchain_core.messages import HumanMessage\n",
    "\n",
    "model.invoke(\"what is the weather in Boston?\")"
   ],
   "id": "241a36bba72c168c"
  }
 ],
 "metadata": {
  "kernelspec": {
   "display_name": "Python 3",
   "language": "python",
   "name": "python3"
  },
  "language_info": {
   "codemirror_mode": {
    "name": "ipython",
    "version": 2
   },
   "file_extension": ".py",
   "mimetype": "text/x-python",
   "name": "python",
   "nbconvert_exporter": "python",
   "pygments_lexer": "ipython2",
   "version": "2.7.6"
  }
 },
 "nbformat": 4,
 "nbformat_minor": 5
}
